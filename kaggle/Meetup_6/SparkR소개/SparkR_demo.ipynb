{
 "cells": [
  {
   "cell_type": "markdown",
   "metadata": {},
   "source": [
    "# Spark R 패키지 로딩\n",
    "\n",
    "- SparkR 패키지가 설치된 docker 이미지이기 때문에 설치 과정이 필요없음."
   ]
  },
  {
   "cell_type": "code",
   "execution_count": 1,
   "metadata": {},
   "outputs": [
    {
     "name": "stderr",
     "output_type": "stream",
     "text": [
      "\n",
      "Attaching package: ‘SparkR’\n",
      "\n",
      "The following objects are masked from ‘package:stats’:\n",
      "\n",
      "    cov, filter, lag, na.omit, predict, sd, var, window\n",
      "\n",
      "The following objects are masked from ‘package:base’:\n",
      "\n",
      "    as.data.frame, colnames, colnames<-, drop, endsWith, intersect,\n",
      "    rank, rbind, sample, startsWith, subset, summary, transform, union\n",
      "\n"
     ]
    }
   ],
   "source": [
    "library(SparkR)"
   ]
  },
  {
   "cell_type": "code",
   "execution_count": 3,
   "metadata": {},
   "outputs": [
    {
     "name": "stderr",
     "output_type": "stream",
     "text": [
      "Spark package found in SPARK_HOME: /usr/local/spark\n"
     ]
    },
    {
     "name": "stdout",
     "output_type": "stream",
     "text": [
      "Launching java with spark-submit command /usr/local/spark/bin/spark-submit   sparkr-shell /tmp/RtmpDC8Qzm/backend_portd02d894592 \n"
     ]
    },
    {
     "data": {
      "text/plain": [
       "Java ref type org.apache.spark.sql.SparkSession id 1 "
      ]
     },
     "metadata": {},
     "output_type": "display_data"
    }
   ],
   "source": [
    "sparkR.session()"
   ]
  },
  {
   "cell_type": "markdown",
   "metadata": {},
   "source": [
    "# SparkDataFrames으로 데이터를 읽어오기 "
   ]
  },
  {
   "cell_type": "code",
   "execution_count": 4,
   "metadata": {},
   "outputs": [
    {
     "data": {
      "text/html": [
       "<table>\n",
       "<thead><tr><th scope=col>eruptions</th><th scope=col>waiting</th></tr></thead>\n",
       "<tbody>\n",
       "\t<tr><td>3.600</td><td>79   </td></tr>\n",
       "\t<tr><td>1.800</td><td>54   </td></tr>\n",
       "\t<tr><td>3.333</td><td>74   </td></tr>\n",
       "\t<tr><td>2.283</td><td>62   </td></tr>\n",
       "\t<tr><td>4.533</td><td>85   </td></tr>\n",
       "\t<tr><td>2.883</td><td>55   </td></tr>\n",
       "</tbody>\n",
       "</table>\n"
      ],
      "text/latex": [
       "\\begin{tabular}{r|ll}\n",
       " eruptions & waiting\\\\\n",
       "\\hline\n",
       "\t 3.600 & 79   \\\\\n",
       "\t 1.800 & 54   \\\\\n",
       "\t 3.333 & 74   \\\\\n",
       "\t 2.283 & 62   \\\\\n",
       "\t 4.533 & 85   \\\\\n",
       "\t 2.883 & 55   \\\\\n",
       "\\end{tabular}\n"
      ],
      "text/markdown": [
       "\n",
       "eruptions | waiting | \n",
       "|---|---|---|---|---|---|\n",
       "| 3.600 | 79    | \n",
       "| 1.800 | 54    | \n",
       "| 3.333 | 74    | \n",
       "| 2.283 | 62    | \n",
       "| 4.533 | 85    | \n",
       "| 2.883 | 55    | \n",
       "\n",
       "\n"
      ],
      "text/plain": [
       "  eruptions waiting\n",
       "1 3.600     79     \n",
       "2 1.800     54     \n",
       "3 3.333     74     \n",
       "4 2.283     62     \n",
       "5 4.533     85     \n",
       "6 2.883     55     "
      ]
     },
     "metadata": {},
     "output_type": "display_data"
    }
   ],
   "source": [
    "df <- as.DataFrame(faithful)\n",
    "\n",
    "# Displays the first part of the SparkDataFrame\n",
    "head(df)"
   ]
  },
  {
   "cell_type": "markdown",
   "metadata": {},
   "source": [
    "# Selecting rows, columns 과 Grouping, Aggregation "
   ]
  },
  {
   "cell_type": "code",
   "execution_count": 5,
   "metadata": {},
   "outputs": [
    {
     "data": {
      "text/html": [
       "<table>\n",
       "<thead><tr><th scope=col>eruptions</th></tr></thead>\n",
       "<tbody>\n",
       "\t<tr><td>3.600</td></tr>\n",
       "\t<tr><td>1.800</td></tr>\n",
       "\t<tr><td>3.333</td></tr>\n",
       "\t<tr><td>2.283</td></tr>\n",
       "\t<tr><td>4.533</td></tr>\n",
       "\t<tr><td>2.883</td></tr>\n",
       "</tbody>\n",
       "</table>\n"
      ],
      "text/latex": [
       "\\begin{tabular}{r|l}\n",
       " eruptions\\\\\n",
       "\\hline\n",
       "\t 3.600\\\\\n",
       "\t 1.800\\\\\n",
       "\t 3.333\\\\\n",
       "\t 2.283\\\\\n",
       "\t 4.533\\\\\n",
       "\t 2.883\\\\\n",
       "\\end{tabular}\n"
      ],
      "text/markdown": [
       "\n",
       "eruptions | \n",
       "|---|---|---|---|---|---|\n",
       "| 3.600 | \n",
       "| 1.800 | \n",
       "| 3.333 | \n",
       "| 2.283 | \n",
       "| 4.533 | \n",
       "| 2.883 | \n",
       "\n",
       "\n"
      ],
      "text/plain": [
       "  eruptions\n",
       "1 3.600    \n",
       "2 1.800    \n",
       "3 3.333    \n",
       "4 2.283    \n",
       "5 4.533    \n",
       "6 2.883    "
      ]
     },
     "metadata": {},
     "output_type": "display_data"
    }
   ],
   "source": [
    "head(select(df, df$eruptions))"
   ]
  },
  {
   "cell_type": "code",
   "execution_count": 6,
   "metadata": {},
   "outputs": [
    {
     "data": {
      "text/html": [
       "<table>\n",
       "<thead><tr><th scope=col>eruptions</th></tr></thead>\n",
       "<tbody>\n",
       "\t<tr><td>3.600</td></tr>\n",
       "\t<tr><td>1.800</td></tr>\n",
       "\t<tr><td>3.333</td></tr>\n",
       "\t<tr><td>2.283</td></tr>\n",
       "\t<tr><td>4.533</td></tr>\n",
       "\t<tr><td>2.883</td></tr>\n",
       "</tbody>\n",
       "</table>\n"
      ],
      "text/latex": [
       "\\begin{tabular}{r|l}\n",
       " eruptions\\\\\n",
       "\\hline\n",
       "\t 3.600\\\\\n",
       "\t 1.800\\\\\n",
       "\t 3.333\\\\\n",
       "\t 2.283\\\\\n",
       "\t 4.533\\\\\n",
       "\t 2.883\\\\\n",
       "\\end{tabular}\n"
      ],
      "text/markdown": [
       "\n",
       "eruptions | \n",
       "|---|---|---|---|---|---|\n",
       "| 3.600 | \n",
       "| 1.800 | \n",
       "| 3.333 | \n",
       "| 2.283 | \n",
       "| 4.533 | \n",
       "| 2.883 | \n",
       "\n",
       "\n"
      ],
      "text/plain": [
       "  eruptions\n",
       "1 3.600    \n",
       "2 1.800    \n",
       "3 3.333    \n",
       "4 2.283    \n",
       "5 4.533    \n",
       "6 2.883    "
      ]
     },
     "metadata": {},
     "output_type": "display_data"
    }
   ],
   "source": [
    "head(select(df, \"eruptions\"))"
   ]
  },
  {
   "cell_type": "code",
   "execution_count": 7,
   "metadata": {},
   "outputs": [
    {
     "data": {
      "text/html": [
       "<table>\n",
       "<thead><tr><th scope=col>eruptions</th><th scope=col>waiting</th></tr></thead>\n",
       "<tbody>\n",
       "\t<tr><td>1.750</td><td>47   </td></tr>\n",
       "\t<tr><td>1.750</td><td>47   </td></tr>\n",
       "\t<tr><td>1.867</td><td>48   </td></tr>\n",
       "\t<tr><td>1.750</td><td>48   </td></tr>\n",
       "\t<tr><td>2.167</td><td>48   </td></tr>\n",
       "\t<tr><td>2.100</td><td>49   </td></tr>\n",
       "</tbody>\n",
       "</table>\n"
      ],
      "text/latex": [
       "\\begin{tabular}{r|ll}\n",
       " eruptions & waiting\\\\\n",
       "\\hline\n",
       "\t 1.750 & 47   \\\\\n",
       "\t 1.750 & 47   \\\\\n",
       "\t 1.867 & 48   \\\\\n",
       "\t 1.750 & 48   \\\\\n",
       "\t 2.167 & 48   \\\\\n",
       "\t 2.100 & 49   \\\\\n",
       "\\end{tabular}\n"
      ],
      "text/markdown": [
       "\n",
       "eruptions | waiting | \n",
       "|---|---|---|---|---|---|\n",
       "| 1.750 | 47    | \n",
       "| 1.750 | 47    | \n",
       "| 1.867 | 48    | \n",
       "| 1.750 | 48    | \n",
       "| 2.167 | 48    | \n",
       "| 2.100 | 49    | \n",
       "\n",
       "\n"
      ],
      "text/plain": [
       "  eruptions waiting\n",
       "1 1.750     47     \n",
       "2 1.750     47     \n",
       "3 1.867     48     \n",
       "4 1.750     48     \n",
       "5 2.167     48     \n",
       "6 2.100     49     "
      ]
     },
     "metadata": {},
     "output_type": "display_data"
    }
   ],
   "source": [
    "head(filter(df, df$waiting < 50))"
   ]
  },
  {
   "cell_type": "code",
   "execution_count": 8,
   "metadata": {},
   "outputs": [
    {
     "data": {
      "text/html": [
       "<table>\n",
       "<thead><tr><th scope=col>waiting</th><th scope=col>count</th></tr></thead>\n",
       "<tbody>\n",
       "\t<tr><td>78</td><td>15</td></tr>\n",
       "\t<tr><td>83</td><td>14</td></tr>\n",
       "\t<tr><td>81</td><td>13</td></tr>\n",
       "\t<tr><td>77</td><td>12</td></tr>\n",
       "\t<tr><td>82</td><td>12</td></tr>\n",
       "\t<tr><td>79</td><td>10</td></tr>\n",
       "</tbody>\n",
       "</table>\n"
      ],
      "text/latex": [
       "\\begin{tabular}{r|ll}\n",
       " waiting & count\\\\\n",
       "\\hline\n",
       "\t 78 & 15\\\\\n",
       "\t 83 & 14\\\\\n",
       "\t 81 & 13\\\\\n",
       "\t 77 & 12\\\\\n",
       "\t 82 & 12\\\\\n",
       "\t 79 & 10\\\\\n",
       "\\end{tabular}\n"
      ],
      "text/markdown": [
       "\n",
       "waiting | count | \n",
       "|---|---|---|---|---|---|\n",
       "| 78 | 15 | \n",
       "| 83 | 14 | \n",
       "| 81 | 13 | \n",
       "| 77 | 12 | \n",
       "| 82 | 12 | \n",
       "| 79 | 10 | \n",
       "\n",
       "\n"
      ],
      "text/plain": [
       "  waiting count\n",
       "1 78      15   \n",
       "2 83      14   \n",
       "3 81      13   \n",
       "4 77      12   \n",
       "5 82      12   \n",
       "6 79      10   "
      ]
     },
     "metadata": {},
     "output_type": "display_data"
    }
   ],
   "source": [
    "waiting_counts <- summarize(groupBy(df, df$waiting), count = n(df$waiting))\n",
    "head(arrange(waiting_counts, desc(waiting_counts$count)))"
   ]
  },
  {
   "cell_type": "markdown",
   "metadata": {},
   "source": [
    "# Large dataset using dapply or dapplyCollect"
   ]
  },
  {
   "cell_type": "code",
   "execution_count": 9,
   "metadata": {},
   "outputs": [
    {
     "data": {
      "text/html": [
       "<table>\n",
       "<thead><tr><th scope=col>eruptions</th><th scope=col>waiting</th><th scope=col>waiting_secs</th></tr></thead>\n",
       "<tbody>\n",
       "\t<tr><td>3.600</td><td>79   </td><td>4740 </td></tr>\n",
       "\t<tr><td>1.800</td><td>54   </td><td>3240 </td></tr>\n",
       "\t<tr><td>3.333</td><td>74   </td><td>4440 </td></tr>\n",
       "\t<tr><td>2.283</td><td>62   </td><td>3720 </td></tr>\n",
       "\t<tr><td>4.533</td><td>85   </td><td>5100 </td></tr>\n",
       "\t<tr><td>2.883</td><td>55   </td><td>3300 </td></tr>\n",
       "</tbody>\n",
       "</table>\n"
      ],
      "text/latex": [
       "\\begin{tabular}{r|lll}\n",
       " eruptions & waiting & waiting\\_secs\\\\\n",
       "\\hline\n",
       "\t 3.600 & 79    & 4740 \\\\\n",
       "\t 1.800 & 54    & 3240 \\\\\n",
       "\t 3.333 & 74    & 4440 \\\\\n",
       "\t 2.283 & 62    & 3720 \\\\\n",
       "\t 4.533 & 85    & 5100 \\\\\n",
       "\t 2.883 & 55    & 3300 \\\\\n",
       "\\end{tabular}\n"
      ],
      "text/markdown": [
       "\n",
       "eruptions | waiting | waiting_secs | \n",
       "|---|---|---|---|---|---|\n",
       "| 3.600 | 79    | 4740  | \n",
       "| 1.800 | 54    | 3240  | \n",
       "| 3.333 | 74    | 4440  | \n",
       "| 2.283 | 62    | 3720  | \n",
       "| 4.533 | 85    | 5100  | \n",
       "| 2.883 | 55    | 3300  | \n",
       "\n",
       "\n"
      ],
      "text/plain": [
       "  eruptions waiting waiting_secs\n",
       "1 3.600     79      4740        \n",
       "2 1.800     54      3240        \n",
       "3 3.333     74      4440        \n",
       "4 2.283     62      3720        \n",
       "5 4.533     85      5100        \n",
       "6 2.883     55      3300        "
      ]
     },
     "metadata": {},
     "output_type": "display_data"
    }
   ],
   "source": [
    "schema <- structType(structField(\"eruptions\", \"double\"), structField(\"waiting\", \"double\"),\n",
    "                     structField(\"waiting_secs\", \"double\"))\n",
    "df1 <- dapply(df, function(x) { x <- cbind(x, x$waiting * 60) }, schema)\n",
    "head(collect(df1))"
   ]
  },
  {
   "cell_type": "code",
   "execution_count": 10,
   "metadata": {},
   "outputs": [
    {
     "data": {
      "text/html": [
       "<table>\n",
       "<thead><tr><th scope=col>eruptions</th><th scope=col>waiting</th><th scope=col>waiting_secs</th></tr></thead>\n",
       "<tbody>\n",
       "\t<tr><td>3.600</td><td>79   </td><td>4740 </td></tr>\n",
       "\t<tr><td>1.800</td><td>54   </td><td>3240 </td></tr>\n",
       "\t<tr><td>3.333</td><td>74   </td><td>4440 </td></tr>\n",
       "</tbody>\n",
       "</table>\n"
      ],
      "text/latex": [
       "\\begin{tabular}{r|lll}\n",
       " eruptions & waiting & waiting\\_secs\\\\\n",
       "\\hline\n",
       "\t 3.600 & 79    & 4740 \\\\\n",
       "\t 1.800 & 54    & 3240 \\\\\n",
       "\t 3.333 & 74    & 4440 \\\\\n",
       "\\end{tabular}\n"
      ],
      "text/markdown": [
       "\n",
       "eruptions | waiting | waiting_secs | \n",
       "|---|---|---|\n",
       "| 3.600 | 79    | 4740  | \n",
       "| 1.800 | 54    | 3240  | \n",
       "| 3.333 | 74    | 4440  | \n",
       "\n",
       "\n"
      ],
      "text/plain": [
       "  eruptions waiting waiting_secs\n",
       "1 3.600     79      4740        \n",
       "2 1.800     54      3240        \n",
       "3 3.333     74      4440        "
      ]
     },
     "metadata": {},
     "output_type": "display_data"
    }
   ],
   "source": [
    "# Note that we can apply UDF to DataFrame and return a R's data.frame\n",
    "ldf <- dapplyCollect(\n",
    "         df,\n",
    "         function(x) {\n",
    "           x <- cbind(x, \"waiting_secs\" = x$waiting * 60)\n",
    "         })\n",
    "head(ldf, 3)"
   ]
  },
  {
   "cell_type": "markdown",
   "metadata": {},
   "source": [
    "# Generalized linear regression"
   ]
  },
  {
   "cell_type": "code",
   "execution_count": 14,
   "metadata": {},
   "outputs": [
    {
     "data": {
      "text/plain": [
       "\n",
       "Deviance Residuals: \n",
       "(Note: These are approximate quantiles with relative error <= 0.01)\n",
       "     Min        1Q    Median        3Q       Max  \n",
       "-1.65951  -0.48982  -0.11214   0.56093   1.47146  \n",
       "\n",
       "Coefficients:\n",
       "              Estimate  Std. Error   t value    Pr(>|t|)\n",
       "(Intercept)   0.886604    0.080965  10.95045  0.0000e+00\n",
       "features_0   -0.060493    0.406325  -0.14888  8.8195e-01\n",
       "features_1   -0.613922    0.281482  -2.18103  3.1502e-02\n",
       "features_2    1.677997    0.701195   2.39305  1.8556e-02\n",
       "features_3   -2.035859    0.475488  -4.28162  4.2331e-05\n",
       "\n",
       "(Dispersion parameter for gaussian family taken to be 0.4809826)\n",
       "\n",
       "    Null deviance: 70.538  on 105  degrees of freedom\n",
       "Residual deviance: 48.579  on 101  degrees of freedom\n",
       "AIC: 230.1\n",
       "\n",
       "Number of Fisher Scoring iterations: 1\n"
      ]
     },
     "metadata": {},
     "output_type": "display_data"
    }
   ],
   "source": [
    "training <- read.df(\"sample_multiclass_classification_data.txt\", source = \"libsvm\")\n",
    "\n",
    "# Fit a generalized linear model of family \"gaussian\" with spark.glm\n",
    "df_list <- randomSplit(training, c(7, 3), 2)\n",
    "gaussianDF <- df_list[[1]]\n",
    "gaussianTestDF <- df_list[[2]]\n",
    "gaussianGLM <- spark.glm(gaussianDF, label ~ features, family = \"gaussian\")\n",
    "\n",
    "# Model summary\n",
    "summary(gaussianGLM)"
   ]
  },
  {
   "cell_type": "code",
   "execution_count": null,
   "metadata": {},
   "outputs": [],
   "source": []
  }
 ],
 "metadata": {
  "kernelspec": {
   "display_name": "R",
   "language": "R",
   "name": "ir"
  },
  "language_info": {
   "codemirror_mode": "r",
   "file_extension": ".r",
   "mimetype": "text/x-r-source",
   "name": "R",
   "pygments_lexer": "r",
   "version": "3.3.2"
  }
 },
 "nbformat": 4,
 "nbformat_minor": 2
}
